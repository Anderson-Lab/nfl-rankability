{
 "cells": [
  {
   "cell_type": "markdown",
   "metadata": {},
   "source": [
    "# Rankability Analysis of NFL Datasets"
   ]
  },
  {
   "cell_type": "code",
   "execution_count": 1,
   "metadata": {},
   "outputs": [],
   "source": [
    "file_prefixes = [\"NFL-2007\",\"NFL-2011\",\"NFL-2012\",\"NFL-2014\",\"NFL-2016\"]"
   ]
  },
  {
   "cell_type": "code",
   "execution_count": 9,
   "metadata": {},
   "outputs": [],
   "source": [
    "import json\n",
    "\n",
    "results = {}\n",
    "for file_prefix in file_prefixes:\n",
    "    try:\n",
    "        results[file_prefix] = json.load(open(file_prefix+\"-D_Matrix.txt.json\"))\n",
    "    except:\n",
    "        print(file_prefix+\" is not a valid json format\")"
   ]
  },
  {
   "cell_type": "code",
   "execution_count": 10,
   "metadata": {},
   "outputs": [
    {
     "name": "stdout",
     "output_type": "stream",
     "text": [
      "NFL-2007\n",
      "k = 394\n",
      "p = 29106\n",
      "NFL-2011\n",
      "k = 398\n",
      "p = 33839\n",
      "NFL-2012\n",
      "k = 385\n",
      "p = 45686\n",
      "NFL-2014\n",
      "k = 386\n",
      "p = 14298\n",
      "NFL-2016\n",
      "k = 390\n",
      "p = 9119\n"
     ]
    }
   ],
   "source": [
    "for file_prefix in results.keys():\n",
    "    print(file_prefix)\n",
    "    print(\"k =\",results[file_prefix][\"k\"])\n",
    "    print(\"p =\",results[file_prefix][\"p\"])"
   ]
  },
  {
   "cell_type": "code",
   "execution_count": null,
   "metadata": {},
   "outputs": [],
   "source": []
  }
 ],
 "metadata": {
  "kernelspec": {
   "display_name": "Python 3.6",
   "language": "python",
   "name": "python3.6"
  },
  "language_info": {
   "codemirror_mode": {
    "name": "ipython",
    "version": 3
   },
   "file_extension": ".py",
   "mimetype": "text/x-python",
   "name": "python",
   "nbconvert_exporter": "python",
   "pygments_lexer": "ipython3",
   "version": "3.6.5"
  }
 },
 "nbformat": 4,
 "nbformat_minor": 2
}
